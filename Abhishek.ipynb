{
  "cells": [
    {
      "cell_type": "code",
      "execution_count": 4,
      "metadata": {
        "id": "AcJrCrsrRd9U"
      },
      "outputs": [],
      "source": [
        "#PROGRAM IN PYHTON TO GENERATE MD5 OF STRING DATA "
      ]
    },
    {
      "cell_type": "code",
      "execution_count": 5,
      "metadata": {
        "id": "t30uoxsRSFmj"
      },
      "outputs": [],
      "source": [
        "import hashlib"
      ]
    },
    {
      "cell_type": "code",
      "execution_count": 6,
      "metadata": {
        "id": "5_HijlSnSH8u"
      },
      "outputs": [],
      "source": [
        "abhi = hashlib.md5(b'IamAbhishek')"
      ]
    },
    {
      "cell_type": "code",
      "execution_count": 7,
      "metadata": {
        "colab": {
          "base_uri": "https://localhost:8080/"
        },
        "id": "Op7ThAY0Sek3",
        "outputId": "ade7b55c-2b84-435e-f35e-281a98f5f862"
      },
      "outputs": [
        {
          "name": "stdout",
          "output_type": "stream",
          "text": [
            "The byte equivalent of hash is:  b'\\xa3fl\\x8b#\\xd4U\\xc8C=Va\\xae\";\\xf0'\n"
          ]
        }
      ],
      "source": [
        "print(\"The byte equivalent of hash is: \", end=\" \")\r\n",
        "print(abhi.digest())"
      ]
    }
  ],
  "metadata": {
    "colab": {
      "name": "Abhishek.ipynb",
      "provenance": []
    },
    "kernelspec": {
      "display_name": "Python 3",
      "name": "python3"
    },
    "language_info": {
      "name": "python"
    }
  },
  "nbformat": 4,
  "nbformat_minor": 0
}